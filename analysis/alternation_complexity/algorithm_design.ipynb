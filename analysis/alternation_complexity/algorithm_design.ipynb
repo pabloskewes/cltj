{
 "cells": [
  {
   "cell_type": "code",
   "execution_count": 1,
   "id": "c7e7d016",
   "metadata": {},
   "outputs": [],
   "source": [
    "%load_ext autoreload\n",
    "%autoreload 2"
   ]
  },
  {
   "cell_type": "code",
   "execution_count": 2,
   "id": "f2b4faa3",
   "metadata": {},
   "outputs": [],
   "source": [
    "from test_cases import test_cases\n",
    "from visualization import plot_lists_visual\n",
    "from alternation_complexity import calculate_alternation_complexity"
   ]
  },
  {
   "cell_type": "code",
   "execution_count": 3,
   "id": "1499a964",
   "metadata": {},
   "outputs": [
    {
     "data": {
      "text/plain": [
       "dict_keys(['paper_example', 'perfectly_interleaved', 'single_responsible', 'all_identical', 'simple_intersection', 'two_lists_only', 'dense_overlap'])"
      ]
     },
     "execution_count": 3,
     "metadata": {},
     "output_type": "execute_result"
    }
   ],
   "source": [
    "test_cases.keys()"
   ]
  },
  {
   "cell_type": "code",
   "execution_count": 26,
   "id": "aa3f67c6",
   "metadata": {},
   "outputs": [
    {
     "name": "stdout",
     "output_type": "stream",
     "text": [
      "  A_1:   ·   ·   ·   ·   ·   ·   ·   ·   9   ·   ·   ·   ·   ·   ·   ·   ·   ·   ·   ·\n",
      "  A_2:   1   2   ·   ·   ·   ·   ·   ·   9   ·  11   ·   ·   ·   ·   ·   ·   ·   ·   ·\n",
      "  A_3:   ·   ·   3   ·   ·   ·   ·   ·   9   ·   ·  12  13   ·   ·   ·   ·   ·   ·   ·\n",
      "  A_4:   ·   ·   ·   ·   ·   ·   ·   ·   9   ·   ·   ·   ·  14  15  16   ·   ·   ·   ·\n",
      "  A_5:   ·   ·   ·   4   ·   ·   ·   ·   ·  10   ·   ·   ·   ·   ·   ·  17  18   ·   ·\n",
      "  A_6:   ·   ·   ·   ·   5   6   7   ·   ·  10   ·   ·   ·   ·   ·   ·   ·   ·   ·   ·\n",
      "  A_7:   ·   ·   ·   ·   ·   ·   ·   8   ·  10   ·   ·   ·   ·   ·   ·   ·   ·  19  20\n",
      "\n",
      "[(-∞, 9), [9, 10), [10, +∞)]\n"
     ]
    }
   ],
   "source": [
    "test_input = test_cases[\"paper_example\"][\"input\"]\n",
    "\n",
    "plot_lists_visual(test_input, header=False, show_dots=True)\n",
    "\n",
    "print(calculate_alternation_complexity(test_input))"
   ]
  },
  {
   "cell_type": "code",
   "execution_count": 13,
   "id": "bf82f6b5",
   "metadata": {},
   "outputs": [],
   "source": [
    "def run_exp(sets_to_intersect: list[list[int]]) -> list[int]:\n",
    "    plot_lists_visual(sets_to_intersect, header=False, show_dots=True)\n",
    "    return calculate_alternation_complexity(sets_to_intersect)"
   ]
  },
  {
   "cell_type": "code",
   "execution_count": 5,
   "id": "9d8f195a",
   "metadata": {},
   "outputs": [
    {
     "name": "stdout",
     "output_type": "stream",
     "text": [
      "  A_1:   1   ·   ·   ·   5   ·   ·   ·   ·  10\n",
      "  A_2:   ·   2   ·   ·   5   ·   ·   ·   ·  10\n",
      "  A_3:   ·   ·   3   ·   5   ·   ·   ·   ·  10\n",
      "\n"
     ]
    },
    {
     "data": {
      "text/plain": [
       "[(-∞, 3), [3, 5), {5}, [5, 10), {10}, [10, +∞)]"
      ]
     },
     "execution_count": 5,
     "metadata": {},
     "output_type": "execute_result"
    }
   ],
   "source": [
    "test_input = [\n",
    "    [1, 5, 10],  # A_1\n",
    "    [2, 5, 10],  # A_2\n",
    "    [3, 5, 10]   # A_3\n",
    "]\n",
    "\n",
    "plot_lists_visual(test_input, header=False, show_dots=True)\n",
    "\n",
    "calculate_alternation_complexity(test_input)"
   ]
  },
  {
   "cell_type": "code",
   "execution_count": 6,
   "id": "13a21da7",
   "metadata": {},
   "outputs": [],
   "source": [
    "# Test case 1: Simple case\n",
    "arrays1 = [\n",
    "    [1, 4],\n",
    "    [2, 5], \n",
    "    [3, 6]\n",
    "]\n",
    "\n",
    "# Test case 2: More complex\n",
    "arrays2 = [\n",
    "    [1, 2, 6],\n",
    "    [3, 4, 7],\n",
    "    [5, 8]\n",
    "]\n",
    "\n",
    "# Test case 3: One that might break greedy\n",
    "arrays3 = [\n",
    "    [1, 10],\n",
    "    [2, 11],\n",
    "    [3, 12], \n",
    "    [4, 5, 6, 7, 8, 9]\n",
    "]"
   ]
  },
  {
   "cell_type": "code",
   "execution_count": 14,
   "id": "8f9dbddd",
   "metadata": {},
   "outputs": [
    {
     "name": "stdout",
     "output_type": "stream",
     "text": [
      "  A_1:   1   ·   ·   4   ·   ·\n",
      "  A_2:   ·   2   ·   ·   5   ·\n",
      "  A_3:   ·   ·   3   ·   ·   6\n",
      "\n"
     ]
    },
    {
     "data": {
      "text/plain": [
       "[(-∞, 3), [3, 5), [5, +∞)]"
      ]
     },
     "execution_count": 14,
     "metadata": {},
     "output_type": "execute_result"
    }
   ],
   "source": [
    "run_exp(arrays1)"
   ]
  },
  {
   "cell_type": "code",
   "execution_count": 15,
   "id": "014cd323",
   "metadata": {},
   "outputs": [
    {
     "name": "stdout",
     "output_type": "stream",
     "text": [
      "  A_1:   1   2   ·   ·   ·   6   ·   ·\n",
      "  A_2:   ·   ·   3   4   ·   ·   7   ·\n",
      "  A_3:   ·   ·   ·   ·   5   ·   ·   8\n",
      "\n"
     ]
    },
    {
     "data": {
      "text/plain": [
       "[(-∞, 5), [5, 7), [7, +∞)]"
      ]
     },
     "execution_count": 15,
     "metadata": {},
     "output_type": "execute_result"
    }
   ],
   "source": [
    "run_exp(arrays2)"
   ]
  },
  {
   "cell_type": "code",
   "execution_count": 16,
   "id": "eadef217",
   "metadata": {},
   "outputs": [
    {
     "name": "stdout",
     "output_type": "stream",
     "text": [
      "  A_1:   1   ·   ·   ·   ·   ·   ·   ·   ·  10   ·   ·\n",
      "  A_2:   ·   2   ·   ·   ·   ·   ·   ·   ·   ·  11   ·\n",
      "  A_3:   ·   ·   3   ·   ·   ·   ·   ·   ·   ·   ·  12\n",
      "  A_4:   ·   ·   ·   4   5   6   7   8   9   ·   ·   ·\n",
      "\n"
     ]
    },
    {
     "data": {
      "text/plain": [
       "[(-∞, 4), [4, 12), [12, +∞)]"
      ]
     },
     "execution_count": 16,
     "metadata": {},
     "output_type": "execute_result"
    }
   ],
   "source": [
    "run_exp(arrays3)"
   ]
  },
  {
   "cell_type": "code",
   "execution_count": 23,
   "id": "abc2796f",
   "metadata": {},
   "outputs": [],
   "source": [
    "# Corner case 1: First element is in intersection\n",
    "corner1 = [\n",
    "    [1, 5, 9],\n",
    "    [1, 6, 10], \n",
    "    [1, 7, 11]\n",
    "]\n",
    "# Intersection should be {1}\n",
    "\n",
    "# Corner case 2: Last element is in intersection  \n",
    "corner2 = [\n",
    "    [2, 6, 10],\n",
    "    [3, 7, 10],\n",
    "    [4, 8, 10]\n",
    "]\n",
    "# Intersection should be {10}\n",
    "\n",
    "# Corner case 3: Single element array (in intersection)\n",
    "corner3 = [\n",
    "    [5],\n",
    "    [3, 5, 7],\n",
    "    [1, 5, 9]\n",
    "]\n",
    "# Intersection should be {5}\n",
    "\n",
    "# Corner case 4: Single element array (NOT in intersection)\n",
    "corner4 = [\n",
    "    [5],\n",
    "    [3, 7, 9],\n",
    "    [1, 6, 8]\n",
    "]\n",
    "# Intersection should be empty\n",
    "\n",
    "# Corner case 6: All arrays identical\n",
    "corner6 = [\n",
    "    [2, 4, 6],\n",
    "    [2, 4, 6],\n",
    "    [2, 4, 6]\n",
    "]\n",
    "# Intersection should be {2, 4, 6}"
   ]
  },
  {
   "cell_type": "code",
   "execution_count": 24,
   "id": "7cc8f129",
   "metadata": {},
   "outputs": [
    {
     "name": "stdout",
     "output_type": "stream",
     "text": [
      "Input:\n",
      "  A_1:   1   ·   ·   ·   5   ·   ·   ·   9   ·   ·\n",
      "  A_2:   1   ·   ·   ·   ·   6   ·   ·   ·  10   ·\n",
      "  A_3:   1   ·   ·   ·   ·   ·   7   ·   ·   ·  11\n",
      "\n",
      "Output: [(-∞, 1), {1}, [1, 7), [7, 10), [10, +∞)]\n",
      "\n",
      "Input:\n",
      "  A_1:   2   ·   ·   ·   6   ·   ·   ·  10\n",
      "  A_2:   ·   3   ·   ·   ·   7   ·   ·  10\n",
      "  A_3:   ·   ·   4   ·   ·   ·   8   ·  10\n",
      "\n",
      "Output: [(-∞, 4), [4, 7), [7, 10), {10}, [10, +∞)]\n",
      "\n",
      "Input:\n",
      "  A_1:   ·   ·   ·   ·   5   ·   ·   ·   ·\n",
      "  A_2:   ·   ·   3   ·   5   ·   7   ·   ·\n",
      "  A_3:   1   ·   ·   ·   5   ·   ·   ·   9\n",
      "\n",
      "Output: [(-∞, 5), {5}, [5, +∞)]\n",
      "\n",
      "Input:\n",
      "  A_1:   ·   ·   ·   ·   5   ·   ·   ·   ·\n",
      "  A_2:   ·   ·   3   ·   ·   ·   7   ·   9\n",
      "  A_3:   1   ·   ·   ·   ·   6   ·   8   ·\n",
      "\n",
      "Output: [(-∞, 5), [5, 7), [7, +∞)]\n",
      "\n",
      "Input:\n",
      "  A_1:   2   ·   4   ·   6\n",
      "  A_2:   2   ·   4   ·   6\n",
      "  A_3:   2   ·   4   ·   6\n",
      "\n",
      "Output: [(-∞, 2), {2}, [2, 4), {4}, [4, 6), {6}, [6, +∞)]\n",
      "\n"
     ]
    }
   ],
   "source": [
    "for i, corner_case in enumerate(\n",
    "    [\n",
    "        corner1,\n",
    "        corner2,\n",
    "        corner3,\n",
    "        corner4,\n",
    "        corner6,\n",
    "    ]\n",
    "):\n",
    "    print(f\"Input:\")\n",
    "    cert = run_exp(corner_case)\n",
    "    print(f\"Output: {cert}\")\n",
    "    print()"
   ]
  },
  {
   "cell_type": "code",
   "execution_count": null,
   "id": "54bb3398",
   "metadata": {},
   "outputs": [],
   "source": []
  }
 ],
 "metadata": {
  "kernelspec": {
   "display_name": ".venv",
   "language": "python",
   "name": "python3"
  },
  "language_info": {
   "codemirror_mode": {
    "name": "ipython",
    "version": 3
   },
   "file_extension": ".py",
   "mimetype": "text/x-python",
   "name": "python",
   "nbconvert_exporter": "python",
   "pygments_lexer": "ipython3",
   "version": "3.11.1"
  }
 },
 "nbformat": 4,
 "nbformat_minor": 5
}
