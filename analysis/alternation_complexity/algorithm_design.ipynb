{
 "cells": [
  {
   "cell_type": "code",
   "execution_count": 1,
   "id": "c7e7d016",
   "metadata": {},
   "outputs": [],
   "source": [
    "%load_ext autoreload\n",
    "%autoreload 2"
   ]
  },
  {
   "cell_type": "code",
   "execution_count": 30,
   "id": "f2b4faa3",
   "metadata": {},
   "outputs": [],
   "source": [
    "from test_cases import test_cases\n",
    "from visualization import plot_lists_visual\n",
    "from alternation_complexity import calculate_alternation_complexity"
   ]
  },
  {
   "cell_type": "code",
   "execution_count": 3,
   "id": "1499a964",
   "metadata": {},
   "outputs": [
    {
     "data": {
      "text/plain": [
       "dict_keys(['paper_example', 'perfectly_interleaved', 'single_responsible', 'all_identical', 'simple_intersection', 'two_lists_only', 'dense_overlap'])"
      ]
     },
     "execution_count": 3,
     "metadata": {},
     "output_type": "execute_result"
    }
   ],
   "source": [
    "test_cases.keys()"
   ]
  },
  {
   "cell_type": "code",
   "execution_count": null,
   "id": "aa3f67c6",
   "metadata": {},
   "outputs": [
    {
     "name": "stdout",
     "output_type": "stream",
     "text": [
      "  A_1:   ·   ·   ·   ·   ·   ·   ·   ·   9   ·   ·   ·   ·   ·   ·   ·   ·   ·   ·   ·\n",
      "  A_2:   1   2   ·   ·   ·   ·   ·   ·   9   ·  11   ·   ·   ·   ·   ·   ·   ·   ·   ·\n",
      "  A_3:   ·   ·   3   ·   ·   ·   ·   ·   9   ·   ·  12  13   ·   ·   ·   ·   ·   ·   ·\n",
      "  A_4:   ·   ·   ·   ·   ·   ·   ·   ·   9   ·   ·   ·   ·  14  15  16   ·   ·   ·   ·\n",
      "  A_5:   ·   ·   ·   4   ·   ·   ·   ·   ·  10   ·   ·   ·   ·   ·   ·  17  18   ·   ·\n",
      "  A_6:   ·   ·   ·   ·   5   6   7   ·   ·  10   ·   ·   ·   ·   ·   ·   ·   ·   ·   ·\n",
      "  A_7:   ·   ·   ·   ·   ·   ·   ·   8   ·  10   ·   ·   ·   ·   ·   ·   ·   ·  19  20\n",
      "\n"
     ]
    },
    {
     "data": {
      "text/plain": [
       "[(-∞, 9), [9, 10), [10, +∞)]"
      ]
     },
     "execution_count": 31,
     "metadata": {},
     "output_type": "execute_result"
    }
   ],
   "source": [
    "test_input = test_cases[\"paper_example\"][\"input\"]\n",
    "\n",
    "plot_lists_visual(test_input, header=False, show_dots=True)\n",
    "\n",
    "calculate_alternation_complexity(test_input)"
   ]
  }
 ],
 "metadata": {
  "kernelspec": {
   "display_name": ".venv",
   "language": "python",
   "name": "python3"
  },
  "language_info": {
   "codemirror_mode": {
    "name": "ipython",
    "version": 3
   },
   "file_extension": ".py",
   "mimetype": "text/x-python",
   "name": "python",
   "nbconvert_exporter": "python",
   "pygments_lexer": "ipython3",
   "version": "3.11.1"
  }
 },
 "nbformat": 4,
 "nbformat_minor": 5
}
