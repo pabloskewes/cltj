{
 "cells": [
  {
   "cell_type": "code",
   "execution_count": 5,
   "id": "c7e7d016",
   "metadata": {},
   "outputs": [],
   "source": [
    "test_cases = {\n",
    "    \"paper_example\": {\n",
    "        \"lists\": [\n",
    "            [9],\n",
    "            [1, 2, 9, 11],\n",
    "            [3, 9, 12, 13],\n",
    "            [9, 14, 15, 16],\n",
    "            [4, 10, 17, 18],\n",
    "            [5, 6, 7, 10],\n",
    "            [8, 10, 19, 20],\n",
    "        ],\n",
    "        \"description\": \"El caso de prueba principal extraído de la imagen del paper de Barbay.\",\n",
    "    },\n",
    "    \"high_alternation\": {\n",
    "        \"lists\": [[1, 4, 7, 10, 13, 16], [2, 5, 8, 11, 14, 17], [3, 6, 9, 12, 15, 18]],\n",
    "        \"description\": \"Listas perfectamente intercaladas, diseñadas para maximizar la alternancia.\",\n",
    "    },\n",
    "    \"zero_alternation\": {\n",
    "        \"lists\": [[100, 200, 300], [1, 5, 10, 50], [2, 6, 12, 60]],\n",
    "        \"description\": \"Una lista siempre está por delante, lo que debería resultar en cero alternancias.\",\n",
    "    },\n",
    "    \"all_identical\": {\n",
    "        \"lists\": [[5, 10, 15], [5, 10, 15], [5, 10, 15]],\n",
    "        \"description\": \"Todas las listas son idénticas. El líder (con desempate) nunca debería cambiar.\",\n",
    "    },\n",
    "    \"high_density\": {\n",
    "        \"lists\": [\n",
    "            [1, 2, 3, 4, 8, 9, 10],\n",
    "            [1, 3, 4, 5, 6, 8, 10],\n",
    "            [1, 2, 4, 6, 7, 9, 10],\n",
    "        ],\n",
    "        \"description\": \"Listas muy similares con alta densidad y múltiples puntos de intersección pequeños (1, 4, 10).\",\n",
    "    },\n",
    "    \"complex_intersection\": {\n",
    "        \"lists\": [\n",
    "            [3, 5, 10, 12, 18, 25, 30],\n",
    "            [5, 11, 12, 15, 20, 25, 30],\n",
    "            [1, 2, 5, 12, 21, 25, 30],\n",
    "        ],\n",
    "        \"description\": \"Un caso más realista con múltiples elementos en la intersección (5, 12, 25, 30).\",\n",
    "    },\n",
    "}"
   ]
  },
  {
   "cell_type": "code",
   "execution_count": null,
   "id": "2c8f8864",
   "metadata": {},
   "outputs": [],
   "source": []
  }
 ],
 "metadata": {
  "kernelspec": {
   "display_name": ".venv",
   "language": "python",
   "name": "python3"
  },
  "language_info": {
   "codemirror_mode": {
    "name": "ipython",
    "version": 3
   },
   "file_extension": ".py",
   "mimetype": "text/x-python",
   "name": "python",
   "nbconvert_exporter": "python",
   "pygments_lexer": "ipython3",
   "version": "3.11.1"
  }
 },
 "nbformat": 4,
 "nbformat_minor": 5
}
