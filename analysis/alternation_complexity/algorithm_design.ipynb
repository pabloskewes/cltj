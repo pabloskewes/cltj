{
 "cells": [
  {
   "cell_type": "code",
   "execution_count": 24,
   "id": "c7e7d016",
   "metadata": {},
   "outputs": [],
   "source": [
    "%load_ext autoreload\n",
    "%autoreload 2"
   ]
  },
  {
   "cell_type": "code",
   "execution_count": 25,
   "id": "f2b4faa3",
   "metadata": {},
   "outputs": [],
   "source": [
    "from test_cases import test_cases\n",
    "from visualization import plot_lists_visual"
   ]
  },
  {
   "cell_type": "code",
   "execution_count": 27,
   "id": "aa3f67c6",
   "metadata": {},
   "outputs": [
    {
     "name": "stdout",
     "output_type": "stream",
     "text": [
      "  A_1:                                   9                                            \n",
      "  A_2:   1   2                           9      11                                    \n",
      "  A_3:           3                       9          12  13                            \n",
      "  A_4:                                   9                  14  15  16                \n",
      "  A_5:               4                      10                          17  18        \n",
      "  A_6:                   5   6   7          10                                        \n",
      "  A_7:                               8      10                                  19  20\n",
      "\n"
     ]
    }
   ],
   "source": [
    "plot_lists_visual(test_cases[\"paper_example\"][\"input\"], header=False)"
   ]
  },
  {
   "cell_type": "code",
   "execution_count": null,
   "id": "2c8f8864",
   "metadata": {},
   "outputs": [],
   "source": [
    "def calculate_alternation_complexity(lists: list[list[int]], verbose=False):\n",
    "    \"\"\"\n",
    "    Calculate the alternation complexity of a list of lists.\n",
    "    \"\"\"\n",
    "    # Sort lists\n",
    "    sorted_lists = [sorted(lst) for lst in lists]\n",
    "\n",
    "\n",
    "\n",
    "    return\n",
    "\n",
    "\n",
    "calculate_alternation_complexity(test_cases[\"paper_example\"][\"lists\"], verbose=True)"
   ]
  },
  {
   "cell_type": "code",
   "execution_count": null,
   "id": "54dfb0b7",
   "metadata": {},
   "outputs": [
    {
     "ename": "TypeError",
     "evalue": "unsupported operand type(s) for &: 'list' and 'list'",
     "output_type": "error",
     "traceback": [
      "\u001b[31m---------------------------------------------------------------------------\u001b[39m\n",
      "\u001b[31mTypeError\u001b[39m                                 Traceback (most recent call last)\n",
      "\u001b[36mCell\u001b[39m\u001b[36m \u001b[39m\u001b[32mIn[9]\u001b[39m\u001b[32m, line 1\u001b[39m\n",
      "\u001b[32m----> \u001b[39m\u001b[32m1\u001b[39m \u001b[43mcalculate_alternation_complexity\u001b[49m\u001b[43m(\u001b[49m\u001b[43mtest_cases\u001b[49m\u001b[43m[\u001b[49m\u001b[33;43m\"\u001b[39;49m\u001b[33;43mpaper_example\u001b[39;49m\u001b[33;43m\"\u001b[39;49m\u001b[43m]\u001b[49m\u001b[43m[\u001b[49m\u001b[33;43m\"\u001b[39;49m\u001b[33;43mlists\u001b[39;49m\u001b[33;43m\"\u001b[39;49m\u001b[43m]\u001b[49m\u001b[43m,\u001b[49m\u001b[43m \u001b[49m\u001b[43mverbose\u001b[49m\u001b[43m=\u001b[49m\u001b[38;5;28;43;01mTrue\u001b[39;49;00m\u001b[43m)\u001b[49m\n",
      "\n",
      "\u001b[36mCell\u001b[39m\u001b[36m \u001b[39m\u001b[32mIn[8]\u001b[39m\u001b[32m, line 12\u001b[39m, in \u001b[36mcalculate_alternation_complexity\u001b[39m\u001b[34m(lists, verbose)\u001b[39m\n",
      "\u001b[32m     10\u001b[39m \u001b[38;5;28;01mfor\u001b[39;00m i \u001b[38;5;129;01min\u001b[39;00m \u001b[38;5;28mrange\u001b[39m(\u001b[38;5;28mlen\u001b[39m(sorted_lists)):\n",
      "\u001b[32m     11\u001b[39m     \u001b[38;5;28;01mfor\u001b[39;00m j \u001b[38;5;129;01min\u001b[39;00m \u001b[38;5;28mrange\u001b[39m(i + \u001b[32m1\u001b[39m, \u001b[38;5;28mlen\u001b[39m(sorted_lists)):\n",
      "\u001b[32m---> \u001b[39m\u001b[32m12\u001b[39m         intersection = \u001b[43msorted_lists\u001b[49m\u001b[43m[\u001b[49m\u001b[43mi\u001b[49m\u001b[43m]\u001b[49m\u001b[43m \u001b[49m\u001b[43m&\u001b[49m\u001b[43m \u001b[49m\u001b[43msorted_lists\u001b[49m\u001b[43m[\u001b[49m\u001b[43mj\u001b[49m\u001b[43m]\u001b[49m\n",
      "\u001b[32m     13\u001b[39m         \u001b[38;5;28;01mif\u001b[39;00m intersection:\n",
      "\u001b[32m     14\u001b[39m             alt += \u001b[32m1\u001b[39m\n",
      "\n",
      "\u001b[31mTypeError\u001b[39m: unsupported operand type(s) for &: 'list' and 'list'"
     ]
    }
   ],
   "source": []
  },
  {
   "cell_type": "code",
   "execution_count": null,
   "id": "14e4c1f9",
   "metadata": {},
   "outputs": [],
   "source": []
  },
  {
   "cell_type": "code",
   "execution_count": null,
   "id": "a5692627",
   "metadata": {},
   "outputs": [],
   "source": []
  },
  {
   "cell_type": "code",
   "execution_count": null,
   "id": "c293c31f",
   "metadata": {},
   "outputs": [],
   "source": []
  }
 ],
 "metadata": {
  "kernelspec": {
   "display_name": ".venv",
   "language": "python",
   "name": "python3"
  },
  "language_info": {
   "codemirror_mode": {
    "name": "ipython",
    "version": 3
   },
   "file_extension": ".py",
   "mimetype": "text/x-python",
   "name": "python",
   "nbconvert_exporter": "python",
   "pygments_lexer": "ipython3",
   "version": "3.11.1"
  }
 },
 "nbformat": 4,
 "nbformat_minor": 5
}
